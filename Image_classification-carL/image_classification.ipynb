{
  "nbformat": 4,
  "nbformat_minor": 0,
  "metadata": {
    "colab": {
      "name": "image classification.ipynb",
      "provenance": []
    },
    "kernelspec": {
      "name": "python3",
      "display_name": "Python 3"
    },
    "accelerator": "GPU"
  },
  "cells": [
    {
      "cell_type": "code",
      "metadata": {
        "id": "bXdJFjIsZvN0",
        "colab_type": "code",
        "outputId": "ec0f22b5-7431-4cf3-96ab-26f0dd8b484e",
        "colab": {
          "base_uri": "https://localhost:8080/",
          "height": 124
        }
      },
      "source": [
        "from google.colab import drive\n",
        "drive.mount('/content/drive')"
      ],
      "execution_count": 1,
      "outputs": [
        {
          "output_type": "stream",
          "text": [
            "Go to this URL in a browser: https://accounts.google.com/o/oauth2/auth?client_id=947318989803-6bn6qk8qdgf4n4g3pfee6491hc0brc4i.apps.googleusercontent.com&redirect_uri=urn%3aietf%3awg%3aoauth%3a2.0%3aoob&response_type=code&scope=email%20https%3a%2f%2fwww.googleapis.com%2fauth%2fdocs.test%20https%3a%2f%2fwww.googleapis.com%2fauth%2fdrive%20https%3a%2f%2fwww.googleapis.com%2fauth%2fdrive.photos.readonly%20https%3a%2f%2fwww.googleapis.com%2fauth%2fpeopleapi.readonly\n",
            "\n",
            "Enter your authorization code:\n",
            "··········\n",
            "Mounted at /content/drive\n"
          ],
          "name": "stdout"
        }
      ]
    },
    {
      "cell_type": "code",
      "metadata": {
        "id": "W3Lm32jVZv1G",
        "colab_type": "code",
        "outputId": "6329885f-35d7-437e-a201-e5ebfaa626d0",
        "colab": {
          "base_uri": "https://localhost:8080/",
          "height": 81
        }
      },
      "source": [
        "# Importing standard ML set - numpy, pandas, matplotlib\n",
        "import os\n",
        "import time\n",
        "import os\n",
        "import re\n",
        "\n",
        "import numpy as np\n",
        "import pandas as pd\n",
        "import matplotlib.pyplot as plt\n",
        "from matplotlib import gridspec\n",
        "\n",
        "# Importing scikit-learn tools\n",
        "from sklearn.utils import shuffle\n",
        "from sklearn.model_selection import train_test_split\n",
        "from sklearn.metrics import confusion_matrix\n",
        "from PIL import Image\n",
        "\n",
        "\n",
        "\n",
        "from keras import models, layers\n",
        "import numpy as np\n",
        "from keras.utils import to_categorical\n",
        "import pandas as pd\n",
        "from keras.layers import Convolution2D, MaxPooling2D, Flatten, Dropout, BatchNormalization, Dense, Lambda\n",
        "from sklearn.model_selection import train_test_split\n",
        "import warnings\n",
        "warnings.filterwarnings(\"ignore\")"
      ],
      "execution_count": 2,
      "outputs": [
        {
          "output_type": "stream",
          "text": [
            "Using TensorFlow backend.\n"
          ],
          "name": "stderr"
        },
        {
          "output_type": "display_data",
          "data": {
            "text/html": [
              "<p style=\"color: red;\">\n",
              "The default version of TensorFlow in Colab will soon switch to TensorFlow 2.x.<br>\n",
              "We recommend you <a href=\"https://www.tensorflow.org/guide/migrate\" target=\"_blank\">upgrade</a> now \n",
              "or ensure your notebook will continue to use TensorFlow 1.x via the <code>%tensorflow_version 1.x</code> magic:\n",
              "<a href=\"https://colab.research.google.com/notebooks/tensorflow_version.ipynb\" target=\"_blank\">more info</a>.</p>\n"
            ],
            "text/plain": [
              "<IPython.core.display.HTML object>"
            ]
          },
          "metadata": {
            "tags": []
          }
        }
      ]
    },
    {
      "cell_type": "code",
      "metadata": {
        "id": "PB4LGmTpZ5ti",
        "colab_type": "code",
        "colab": {}
      },
      "source": [
        "cars = ['Alfa Romeo', 'Audi', 'BMW', 'Chevrolet', 'Citroen', 'Dacia','Ferrari']"
      ],
      "execution_count": 0,
      "outputs": []
    },
    {
      "cell_type": "code",
      "metadata": {
        "id": "75e789uhZ7v7",
        "colab_type": "code",
        "outputId": "91714e80-6d97-4d73-d9d5-ef568ac8607e",
        "colab": {
          "base_uri": "https://localhost:8080/",
          "height": 34
        }
      },
      "source": [
        "# Setting up the image pool\n",
        "image_path = '/content/drive/My Drive/Projects/Image_classification/car_images/'\n",
        "imgs = os.listdir(image_path)\n",
        "img_x = img_y = 50 # image size is constant\n",
        "n_samples = np.size(imgs)\n",
        "n_samples"
      ],
      "execution_count": 3,
      "outputs": [
        {
          "output_type": "execute_result",
          "data": {
            "text/plain": [
              "267"
            ]
          },
          "metadata": {
            "tags": []
          },
          "execution_count": 3
        }
      ]
    },
    {
      "cell_type": "code",
      "metadata": {
        "id": "VFBb-3RNaE0n",
        "colab_type": "code",
        "colab": {
          "base_uri": "https://localhost:8080/",
          "height": 34
        },
        "outputId": "58042be6-4a7d-46d8-858c-0d9726ce0cea"
      },
      "source": [
        "# Loading all images...\n",
        "images = np.array([np.array(Image.open(image_path + img).convert(\"RGB\")).flatten() for img in os.listdir(image_path)], order='F', dtype='uint8')\n",
        "np.shape(images)"
      ],
      "execution_count": 5,
      "outputs": [
        {
          "output_type": "execute_result",
          "data": {
            "text/plain": [
              "(267, 7500)"
            ]
          },
          "metadata": {
            "tags": []
          },
          "execution_count": 5
        }
      ]
    },
    {
      "cell_type": "code",
      "metadata": {
        "id": "djPRHOlSaJHG",
        "colab_type": "code",
        "outputId": "cf9a36ce-7714-42dc-85ae-386ecd7ba7ee",
        "colab": {
          "base_uri": "https://localhost:8080/",
          "height": 34
        }
      },
      "source": [
        "# an example image\n",
        "images[1][1:]"
      ],
      "execution_count": 6,
      "outputs": [
        {
          "output_type": "execute_result",
          "data": {
            "text/plain": [
              "array([0, 0, 0, ..., 0, 0, 0], dtype=uint8)"
            ]
          },
          "metadata": {
            "tags": []
          },
          "execution_count": 6
        }
      ]
    },
    {
      "cell_type": "code",
      "metadata": {
        "id": "SxOMNR1LaZ4D",
        "colab_type": "code",
        "outputId": "d5b94d62-3ade-4ce8-ff11-5a3a20c9e9a2",
        "colab": {
          "base_uri": "https://localhost:8080/",
          "height": 34
        }
      },
      "source": [
        "# Producing labels and assigning them accordingly\n",
        "labels = np.array([cars.index(re.match(r\"(^\\D+)\", imgs[i])[0]) for i in range(n_samples)])\n",
        "labels.shape"
      ],
      "execution_count": 7,
      "outputs": [
        {
          "output_type": "execute_result",
          "data": {
            "text/plain": [
              "(267,)"
            ]
          },
          "metadata": {
            "tags": []
          },
          "execution_count": 7
        }
      ]
    },
    {
      "cell_type": "code",
      "metadata": {
        "id": "6oWZ48jaabEB",
        "colab_type": "code",
        "colab": {}
      },
      "source": [
        "# Some additional data preparation needs to be done before blasting the images into the neural net\n",
        "dataset, labelset = shuffle(images, labels, random_state=42) # 42, what else? ;)\n",
        "train_data = [dataset, labelset]"
      ],
      "execution_count": 0,
      "outputs": []
    },
    {
      "cell_type": "code",
      "metadata": {
        "id": "jwaZBQegadTF",
        "colab_type": "code",
        "outputId": "f96caea0-1f34-460e-e71a-ffa2394b5077",
        "colab": {
          "base_uri": "https://localhost:8080/",
          "height": 298
        }
      },
      "source": [
        "r = 30\n",
        "print(train_data[0].shape, train_data[1].shape)\n",
        "plt.imshow(images[r].reshape(img_x, img_y, 3))\n",
        "plt.title(cars[labels[r]])\n",
        "plt.show()"
      ],
      "execution_count": 10,
      "outputs": [
        {
          "output_type": "stream",
          "text": [
            "(267, 7500) (267,)\n"
          ],
          "name": "stdout"
        },
        {
          "output_type": "display_data",
          "data": {
            "image/png": "[encoded data removed]",
            "text/plain": [
              "<Figure size 432x288 with 1 Axes>"
            ]
          },
          "metadata": {
            "tags": []
          }
        }
      ]
    },
    {
      "cell_type": "code",
      "metadata": {
        "id": "vjgeS_GsafHu",
        "colab_type": "code",
        "colab": {}
      },
      "source": [
        "\n",
        "\n",
        "# We have to prepare the dataset to fit into the CNN\n",
        "X_train, X_test, y_train, y_test = train_test_split(train_data[0], train_data[1], test_size=0.2)\n",
        "\n",
        "# we will maintain a copy of the test set, as we will do a couple of transformation to it\n",
        "X_test_img = X_test.copy()\n",
        "\n",
        "# let's bring back the images, like above\n",
        "X_train = X_train.reshape(X_train.shape[0], img_x, img_y, 3)\n",
        "X_test = X_test.reshape(X_test.shape[0], img_x, img_y, 3)\n",
        "\n",
        "# Now for some convergence-friendly procedure (is supposed to converge a lot faster when brought to 0-1 float)...\n",
        "X_train = X_train.astype('float32') / 255\n",
        "X_test = X_test.astype('float32') / 255\n",
        "\n",
        "# ...and some additional pre-processing, to zero-center the data...\n",
        "X_train = np.subtract(X_train, 0.5)\n",
        "X_test = np.subtract(X_test, 0.5)\n",
        "\n",
        "# ...and to scale it to (-1, 1)\n",
        "X_train = np.multiply(X_train, 2.0)\n",
        "X_test = np.multiply(X_test, 2.0)\n",
        "\n",
        "# Labels have to be transformed to categorical\n",
        "Y_train = np_utils.to_categorical(y_train, num_classes=len(cars))\n",
        "Y_test = np_utils.to_categorical(y_test, num_classes=len(cars))\n",
        "\n"
      ],
      "execution_count": 0,
      "outputs": []
    },
    {
      "cell_type": "code",
      "metadata": {
        "id": "UD7C4QGfah4v",
        "colab_type": "code",
        "outputId": "8acaec38-3b81-4ea6-e6d6-e81e87377843",
        "colab": {
          "base_uri": "https://localhost:8080/",
          "height": 34
        }
      },
      "source": [
        "X_train.shape, X_test.shape\n",
        "X_train.shape, X_test.shape"
      ],
      "execution_count": 12,
      "outputs": [
        {
          "output_type": "execute_result",
          "data": {
            "text/plain": [
              "((213, 50, 50, 3), (54, 50, 50, 3))"
            ]
          },
          "metadata": {
            "tags": []
          },
          "execution_count": 12
        }
      ]
    },
    {
      "cell_type": "code",
      "metadata": {
        "id": "l872UBsaq9Nv",
        "colab_type": "code",
        "colab": {}
      },
      "source": [
        "def cnn():\n",
        "    model = models.Sequential()\n",
        "\n",
        "    model.add(Convolution2D(32,(3,3), activation = 'relu'))\n",
        "    model.add(BatchNormalization(axis=1))   \n",
        "    model.add(Convolution2D(64,(3,3), activation = 'relu'))\n",
        "    model.add(MaxPooling2D())\n",
        "    model.add(Convolution2D(128,(3,3), activation = 'relu'))\n",
        "    model.add(BatchNormalization(axis=1))\n",
        "    model.add(Convolution2D(128,(2,2), activation = 'relu'))\n",
        "    model.add(MaxPooling2D())\n",
        "    model.add(Flatten())\n",
        "    model.add(Dense(256, activation='relu'))\n",
        "    model.add(Dropout(0.5))\n",
        "    model.add(Dense(256, activation='relu'))\n",
        "    model.add(Dropout(0.5))\n",
        "    model.add(Dense(len(cars), activation='softmax'))          \n",
        "    model.compile(optimizer='adam', loss='categorical_crossentropy',\n",
        "                  metrics=['accuracy'])\n",
        "    return model   "
      ],
      "execution_count": 0,
      "outputs": []
    },
    {
      "cell_type": "code",
      "metadata": {
        "id": "5fAv81aQaf8J",
        "colab_type": "code",
        "outputId": "71831ad6-9f69-4406-83ae-d0f6631bac80",
        "colab": {
          "base_uri": "https://localhost:8080/",
          "height": 1000
        }
      },
      "source": [
        "classifier = cnn()\n",
        "classifier.fit(X_train, Y_train, epochs=30,batch_size=120,validation_data=(X_test, Y_test))"
      ],
      "execution_count": 39,
      "outputs": [
        {
          "output_type": "stream",
          "text": [
            "Train on 213 samples, validate on 54 samples\n",
            "Epoch 1/30\n",
            "213/213 [==============================] - 3s 14ms/step - loss: 4.3304 - acc: 0.1831 - val_loss: 2.6267 - val_acc: 0.0926\n",
            "Epoch 2/30\n",
            "213/213 [==============================] - 0s 291us/step - loss: 2.8229 - acc: 0.1972 - val_loss: 1.8559 - val_acc: 0.2963\n",
            "Epoch 3/30\n",
            "213/213 [==============================] - 0s 267us/step - loss: 1.9291 - acc: 0.2207 - val_loss: 1.8801 - val_acc: 0.2963\n",
            "Epoch 4/30\n",
            "213/213 [==============================] - 0s 263us/step - loss: 1.9218 - acc: 0.2066 - val_loss: 1.8981 - val_acc: 0.2407\n",
            "Epoch 5/30\n",
            "213/213 [==============================] - 0s 271us/step - loss: 1.8749 - acc: 0.2723 - val_loss: 1.8819 - val_acc: 0.2222\n",
            "Epoch 6/30\n",
            "213/213 [==============================] - 0s 255us/step - loss: 1.8477 - acc: 0.2958 - val_loss: 1.9156 - val_acc: 0.2222\n",
            "Epoch 7/30\n",
            "213/213 [==============================] - 0s 248us/step - loss: 1.8143 - acc: 0.2723 - val_loss: 1.8886 - val_acc: 0.2222\n",
            "Epoch 8/30\n",
            "213/213 [==============================] - 0s 244us/step - loss: 1.8136 - acc: 0.2394 - val_loss: 1.8505 - val_acc: 0.2222\n",
            "Epoch 9/30\n",
            "213/213 [==============================] - 0s 258us/step - loss: 1.7233 - acc: 0.3427 - val_loss: 1.8544 - val_acc: 0.2222\n",
            "Epoch 10/30\n",
            "213/213 [==============================] - 0s 251us/step - loss: 1.6539 - acc: 0.3709 - val_loss: 1.7719 - val_acc: 0.2593\n",
            "Epoch 11/30\n",
            "213/213 [==============================] - 0s 250us/step - loss: 1.5793 - acc: 0.3991 - val_loss: 1.5716 - val_acc: 0.3889\n",
            "Epoch 12/30\n",
            "213/213 [==============================] - 0s 242us/step - loss: 1.5335 - acc: 0.4413 - val_loss: 1.4453 - val_acc: 0.5556\n",
            "Epoch 13/30\n",
            "213/213 [==============================] - 0s 243us/step - loss: 1.3494 - acc: 0.5258 - val_loss: 1.3993 - val_acc: 0.5741\n",
            "Epoch 14/30\n",
            "213/213 [==============================] - 0s 247us/step - loss: 1.2844 - acc: 0.5352 - val_loss: 1.3340 - val_acc: 0.5741\n",
            "Epoch 15/30\n",
            "213/213 [==============================] - 0s 250us/step - loss: 1.1504 - acc: 0.6385 - val_loss: 1.1927 - val_acc: 0.6481\n",
            "Epoch 16/30\n",
            "213/213 [==============================] - 0s 259us/step - loss: 1.1338 - acc: 0.6009 - val_loss: 1.1785 - val_acc: 0.7037\n",
            "Epoch 17/30\n",
            "213/213 [==============================] - 0s 249us/step - loss: 1.0340 - acc: 0.6714 - val_loss: 1.1333 - val_acc: 0.6667\n",
            "Epoch 18/30\n",
            "213/213 [==============================] - 0s 265us/step - loss: 0.8487 - acc: 0.6948 - val_loss: 1.0954 - val_acc: 0.6667\n",
            "Epoch 19/30\n",
            "213/213 [==============================] - 0s 269us/step - loss: 0.7660 - acc: 0.7089 - val_loss: 1.0907 - val_acc: 0.7037\n",
            "Epoch 20/30\n",
            "213/213 [==============================] - 0s 263us/step - loss: 0.7858 - acc: 0.7277 - val_loss: 1.0713 - val_acc: 0.7407\n",
            "Epoch 21/30\n",
            "213/213 [==============================] - 0s 260us/step - loss: 0.7051 - acc: 0.7653 - val_loss: 1.0604 - val_acc: 0.6852\n",
            "Epoch 22/30\n",
            "213/213 [==============================] - 0s 258us/step - loss: 0.7510 - acc: 0.7653 - val_loss: 0.9824 - val_acc: 0.7222\n",
            "Epoch 23/30\n",
            "213/213 [==============================] - 0s 266us/step - loss: 0.6297 - acc: 0.7887 - val_loss: 0.9598 - val_acc: 0.7037\n",
            "Epoch 24/30\n",
            "213/213 [==============================] - 0s 268us/step - loss: 0.5570 - acc: 0.8216 - val_loss: 1.0014 - val_acc: 0.7037\n",
            "Epoch 25/30\n",
            "213/213 [==============================] - 0s 274us/step - loss: 0.4938 - acc: 0.8216 - val_loss: 0.9900 - val_acc: 0.7037\n",
            "Epoch 26/30\n",
            "213/213 [==============================] - 0s 269us/step - loss: 0.4438 - acc: 0.8451 - val_loss: 0.9688 - val_acc: 0.7222\n",
            "Epoch 27/30\n",
            "213/213 [==============================] - 0s 265us/step - loss: 0.4972 - acc: 0.8498 - val_loss: 0.9609 - val_acc: 0.7407\n",
            "Epoch 28/30\n",
            "213/213 [==============================] - 0s 263us/step - loss: 0.4044 - acc: 0.8498 - val_loss: 1.0357 - val_acc: 0.7037\n",
            "Epoch 29/30\n",
            "213/213 [==============================] - 0s 264us/step - loss: 0.3683 - acc: 0.8779 - val_loss: 1.0814 - val_acc: 0.7222\n",
            "Epoch 30/30\n",
            "213/213 [==============================] - 0s 248us/step - loss: 0.3295 - acc: 0.8685 - val_loss: 1.0347 - val_acc: 0.7778\n"
          ],
          "name": "stdout"
        },
        {
          "output_type": "execute_result",
          "data": {
            "text/plain": [
              "<keras.callbacks.History at 0x7fe322e5db00>"
            ]
          },
          "metadata": {
            "tags": []
          },
          "execution_count": 39
        }
      ]
    },
    {
      "cell_type": "code",
      "metadata": {
        "id": "0CFw2KwBb6hq",
        "colab_type": "code",
        "outputId": "902d4446-4898-41d5-883c-e168c9ef20b6",
        "colab": {
          "base_uri": "https://localhost:8080/",
          "height": 52
        }
      },
      "source": [
        "scores = classifier.evaluate(X_test, Y_test) # let's look at the accuracy on the test set\n",
        "print(\"Accuracy test: %.2f%%\" % (scores[1]*100))"
      ],
      "execution_count": 40,
      "outputs": [
        {
          "output_type": "stream",
          "text": [
            "54/54 [==============================] - 0s 291us/step\n",
            "Accuracy test: 77.78%\n"
          ],
          "name": "stdout"
        }
      ]
    },
    {
      "cell_type": "code",
      "metadata": {
        "id": "AcEUyW_ZGJRK",
        "colab_type": "code",
        "colab": {}
      },
      "source": [
        ""
      ],
      "execution_count": 0,
      "outputs": []
    }
  ]
}