{
  "nbformat": 4,
  "nbformat_minor": 0,
  "metadata": {
    "colab": {
      "name": "Bot-AI.ipynb",
      "provenance": [],
      "collapsed_sections": [],
      "toc_visible": true
    },
    "kernelspec": {
      "name": "python3",
      "display_name": "Python 3"
    },
    "accelerator": "GPU"
  },
  "cells": [
    {
      "cell_type": "markdown",
      "metadata": {
        "id": "D-hxLTf-hcPC",
        "colab_type": "text"
      },
      "source": [
        "# JanataHack: Computer Vision Hackathon\n",
        "Emergency vs Non-Emergency Vehicle Classification"
      ]
    },
    {
      "cell_type": "code",
      "metadata": {
        "id": "rghhHari7AdN",
        "colab_type": "code",
        "colab": {
          "base_uri": "https://localhost:8080/",
          "height": 35
        },
        "outputId": "b7406aa0-5815-48fa-cc2d-44569646f066"
      },
      "source": [
        "import pandas as pd\n",
        "import numpy as np\n",
        "import pickle\n",
        "import PIL\n",
        "import cv2 ,pickle\n",
        "from sklearn.preprocessing import LabelEncoder\n",
        "from keras.utils import np_utils"
      ],
      "execution_count": 1,
      "outputs": [
        {
          "output_type": "stream",
          "text": [
            "Using TensorFlow backend.\n"
          ],
          "name": "stderr"
        }
      ]
    },
    {
      "cell_type": "code",
      "metadata": {
        "id": "g0UdEIEo1cvn",
        "colab_type": "code",
        "colab": {
          "base_uri": "https://localhost:8080/",
          "height": 126
        },
        "outputId": "7ad7dcf3-236a-42db-f963-61ae3f179ff0"
      },
      "source": [
        "from google.colab import drive\n",
        "drive.mount('/content/drive')"
      ],
      "execution_count": 2,
      "outputs": [
        {
          "output_type": "stream",
          "text": [
            "Go to this URL in a browser: https://accounts.google.com/o/oauth2/auth?client_id=947318989803-6bn6qk8qdgf4n4g3pfee6491hc0brc4i.apps.googleusercontent.com&redirect_uri=urn%3aietf%3awg%3aoauth%3a2.0%3aoob&response_type=code&scope=email%20https%3a%2f%2fwww.googleapis.com%2fauth%2fdocs.test%20https%3a%2f%2fwww.googleapis.com%2fauth%2fdrive%20https%3a%2f%2fwww.googleapis.com%2fauth%2fdrive.photos.readonly%20https%3a%2f%2fwww.googleapis.com%2fauth%2fpeopleapi.readonly\n",
            "\n",
            "Enter your authorization code:\n",
            "··········\n",
            "Mounted at /content/drive\n"
          ],
          "name": "stdout"
        }
      ]
    },
    {
      "cell_type": "code",
      "metadata": {
        "id": "3PE3wzsnCKeK",
        "colab_type": "code",
        "colab": {}
      },
      "source": [
        "test_data = pd.read_csv(\"/content/drive/My Drive/Online competition/Analytics vidhya/test_vc2kHdQ.csv\") #train csv\n",
        "train_data = pd.read_csv(\"/content/drive/My Drive/Online competition/Analytics vidhya/train.csv\") #test csv"
      ],
      "execution_count": 3,
      "outputs": []
    },
    {
      "cell_type": "code",
      "metadata": {
        "id": "VYZwXt0EwyZ6",
        "colab_type": "code",
        "colab": {}
      },
      "source": [
        "# Resizing of images in dim (224,224) and converted into array\n",
        "def array(data_):\n",
        "  data = []\n",
        "  for i in data_:\n",
        "      path = \"/content/drive/My Drive/Colab Notebooks/analytics_vidhhya/images/\"+i\n",
        "      img_data = cv2.imread(path)\n",
        "      img_data = cv2.resize(img_data, (224, 224), interpolation=cv2.INTER_NEAREST)\n",
        "      data.append(np.array(img_data))\n",
        "  return(data)\n",
        "\n",
        "train=array(train_data[\"image_names\"])\n",
        "test=array(test_data[\"image_names\"])"
      ],
      "execution_count": 4,
      "outputs": []
    },
    {
      "cell_type": "code",
      "metadata": {
        "id": "wVSo5WT-2zJh",
        "colab_type": "code",
        "colab": {}
      },
      "source": [
        "pickle.dump(train,open(\"/content/drive/My Drive/Online competition/Analytics vidhya/train.npy\",\"wb\"))\n",
        "pickle.dump(test, open(\"/content/drive/My Drive/Online competition/Analytics vidhya/test.npy\",\"wb\"))"
      ],
      "execution_count": 5,
      "outputs": []
    },
    {
      "cell_type": "code",
      "metadata": {
        "id": "zB8nHgSg_eO7",
        "colab_type": "code",
        "colab": {}
      },
      "source": [
        "test_img = pickle.load(open(\"/content/drive/My Drive/Online competition/Analytics vidhya/test.npy\",\"rb\"))\n",
        "train_img = pickle.load(open(\"/content/drive/My Drive/Online competition/Analytics vidhya/train.npy\",\"rb\"))\n",
        "train_img = np.array(train_img)\n",
        "test_img = np.array(test_img)"
      ],
      "execution_count": 6,
      "outputs": []
    },
    {
      "cell_type": "code",
      "metadata": {
        "id": "nZujwneAAs8_",
        "colab_type": "code",
        "colab": {}
      },
      "source": [
        "# LabelEncoding and using one hot encoding representation of target variable\n",
        "encoder = LabelEncoder()\n",
        "encoder.fit(train_data[\"emergency_or_not\"])\n",
        "encoded_Y = encoder.transform(train_data[\"emergency_or_not\"])\n",
        "dummy_y = np_utils.to_categorical(encoded_Y)"
      ],
      "execution_count": 7,
      "outputs": []
    },
    {
      "cell_type": "markdown",
      "metadata": {
        "id": "mK9he6WGpxIH",
        "colab_type": "text"
      },
      "source": [
        ""
      ]
    },
    {
      "cell_type": "markdown",
      "metadata": {
        "id": "zhf6XTFbpx1q",
        "colab_type": "text"
      },
      "source": [
        "# Approach-1"
      ]
    },
    {
      "cell_type": "code",
      "metadata": {
        "id": "dh2if3qxD9Ch",
        "colab_type": "code",
        "colab": {}
      },
      "source": [
        "# Essential libraries for model building\n",
        "import keras\n",
        "from keras.models import Sequential\n",
        "from keras.layers import Dense, Dropout, Conv2D, MaxPool2D, Flatten\n",
        "from keras.wrappers.scikit_learn import KerasClassifier"
      ],
      "execution_count": null,
      "outputs": []
    },
    {
      "cell_type": "code",
      "metadata": {
        "id": "R2a_QzUxFHYt",
        "colab_type": "code",
        "colab": {}
      },
      "source": [
        "# Creating a Sequential model\n",
        "model= Sequential()\n",
        "model.add(Conv2D(kernel_size=(3,3), filters=3, activation='relu', input_shape=train_img[0].shape))\n",
        "model.add(Conv2D(filters=3,kernel_size = (3,3),activation='relu'))\n",
        "model.add(MaxPool2D(3,3))\n",
        "model.add(Conv2D(filters=3,kernel_size = (3,3),activation='relu'))\n",
        "model.add(MaxPool2D(3,3))\n",
        "model.add(Conv2D(filters=3,kernel_size = (3,3),activation='relu'))\n",
        "\n",
        "model.add(Flatten())\n",
        "\n",
        "model.add(Dense(20,activation='relu'))\n",
        "model.add(Dense(15,activation='relu'))\n",
        "model.add(Dense(2,activation = 'softmax'))\n",
        "    \n",
        "model.compile(\n",
        "              loss='binary_crossentropy', \n",
        "              metrics=['acc'],\n",
        "              optimizer='adam'\n",
        "             )\n",
        "model.summary()"
      ],
      "execution_count": 8,
      "outputs": []
    },
    {
      "cell_type": "code",
      "metadata": {
        "id": "k9Ja0ar7FQI0",
        "colab_type": "code",
        "colab": {}
      },
      "source": [
        "# fitting model on training data\n",
        "history = model.fit(train_img, dummy_y, epochs=5, batch_size=32)"
      ],
      "execution_count": 10,
      "outputs": []
    },
    {
      "cell_type": "code",
      "metadata": {
        "id": "CsC3gfeuFVDp",
        "colab_type": "code",
        "colab": {}
      },
      "source": [
        "# Predicting target variale on test data\n",
        "pred = model1.predict(test_img)\n",
        "pred = encoder.inverse_transform(pred)\n",
        "result = pd.DataFrame(pred, test_data[\"image_names\"], columns=[\"emergency_or_not\"])\n",
        "result.to_csv(\"sample.csv\")"
      ],
      "execution_count": 11,
      "outputs": []
    },
    {
      "cell_type": "markdown",
      "metadata": {
        "id": "2Olu0I9nf8MN",
        "colab_type": "text"
      },
      "source": [
        "# Approach-2\n",
        "ResNet50 Pre-trained ensemble model"
      ]
    },
    {
      "cell_type": "code",
      "metadata": {
        "id": "682mQ5i0MA9M",
        "colab_type": "code",
        "colab": {}
      },
      "source": [
        "# Essential libraries for model building\n",
        "from tensorflow.keras.applications.resnet50 import ResNet50\n",
        "from tensorflow.keras.models import Sequential\n",
        "from tensorflow.keras.callbacks import EarlyStopping\n",
        "from tensorflow.keras.layers import Dense, Dropout, AveragePooling2D, Flatten\n",
        "from tensorflow.keras.utils import to_categorical\n",
        "from tensorflow.keras.optimizers import SGD\n",
        "from tensorflow.keras.preprocessing.image import ImageDataGenerator"
      ],
      "execution_count": 12,
      "outputs": []
    },
    {
      "cell_type": "code",
      "metadata": {
        "id": "UUhea_z0f_Xq",
        "colab_type": "code",
        "colab": {
          "base_uri": "https://localhost:8080/",
          "height": 52
        },
        "outputId": "4b7a1e11-f935-46bb-fe51-ba98c40aa3e4"
      },
      "source": [
        "base_model = ResNet50(\n",
        "    weights='imagenet',\n",
        "    include_top=False, \n",
        "    input_shape=(224, 224, 3), \n",
        "    pooling='avg'\n",
        ")"
      ],
      "execution_count": 13,
      "outputs": [
        {
          "output_type": "stream",
          "text": [
            "Downloading data from https://storage.googleapis.com/tensorflow/keras-applications/resnet/resnet50_weights_tf_dim_ordering_tf_kernels_notop.h5\n",
            "94773248/94765736 [==============================] - 2s 0us/step\n"
          ],
          "name": "stdout"
        }
      ]
    },
    {
      "cell_type": "code",
      "metadata": {
        "id": "S-UM9MTtgI0a",
        "colab_type": "code",
        "colab": {}
      },
      "source": [
        "base_model.trainable = False\n",
        "model = Sequential([\n",
        "  base_model,\n",
        "  Dense(256, activation=\"relu\"),\n",
        "  Dropout(0.2),\n",
        "  Dense(2, activation='sigmoid')\n",
        "])\n",
        "sgd = SGD(momentum=0.01, nesterov=True)\n",
        "model.compile(loss='binary_crossentropy', optimizer=sgd, metrics=['accuracy'])\n",
        "model.summary()"
      ],
      "execution_count": 14,
      "outputs": []
    },
    {
      "cell_type": "code",
      "metadata": {
        "id": "zEGjPwPcgMWL",
        "colab_type": "code",
        "colab": {}
      },
      "source": [
        "from tensorflow.keras.callbacks import ModelCheckpoint\n",
        "checkpoint = ModelCheckpoint('/content/drive/My Drive/Online competition/Analytics vidhya/best_model.h5',\n",
        "                             monitor='accuracy',\n",
        "                             verbose=1, save_best_only= True, \n",
        "                             mode='auto')"
      ],
      "execution_count": 18,
      "outputs": []
    },
    {
      "cell_type": "markdown",
      "metadata": {
        "id": "QT9pDaOBjVa7",
        "colab_type": "text"
      },
      "source": [
        "Data Augmentation for better training"
      ]
    },
    {
      "cell_type": "code",
      "metadata": {
        "id": "5I_0nCs2glF4",
        "colab_type": "code",
        "colab": {}
      },
      "source": [
        "batch_size =4\n",
        "epochs = 5\n",
        "datagen = ImageDataGenerator(\n",
        "        shear_range=0.2,\n",
        "        zoom_range=0.2,   \n",
        "        rotation_range=20,\n",
        "\t      width_shift_range=0.1,\n",
        "\t      height_shift_range=0.3,\n",
        "        brightness_range=[0.2,1.0],\n",
        "\t      horizontal_flip=True,\n",
        "\t      fill_mode=\"nearest\")\n",
        "\n",
        "\n",
        "training_generator = datagen.flow(train_img, dummy_y,\n",
        "                                  batch_size=batch_size)\n",
        "\n",
        "history = model.fit_generator(\n",
        "         training_generator,\n",
        "         steps_per_epoch= training_generator.n//training_generator.batch_size,\n",
        "         callbacks=[checkpoint],\n",
        "         epochs= epochs)"
      ],
      "execution_count": 20,
      "outputs": []
    },
    {
      "cell_type": "code",
      "metadata": {
        "id": "RxpS-wv1hP8o",
        "colab_type": "code",
        "colab": {}
      },
      "source": [
        "# Predicting target variable of test data\n",
        "from tensorflow import keras\n",
        "model = keras.models.load_model(\"/content/drive/My Drive/Colab Notebooks/analytics_vidhhya/best_model.h5\")\n",
        "pred = model.predict_classes(test_img)\n",
        "pred = encoder.inverse_transform(pred)\n",
        "result = pd.DataFrame(pred, test_data[\"image_names\"], columns=[\"emergency_or_not\"])\n",
        "result.to_csv(\"sample.csv\")"
      ],
      "execution_count": 21,
      "outputs": []
    },
    {
      "cell_type": "markdown",
      "metadata": {
        "id": "707e51ApNbhK",
        "colab_type": "text"
      },
      "source": [
        "# Approach-3 \n",
        "ResNet152 Pre-trained ensemble model"
      ]
    },
    {
      "cell_type": "code",
      "metadata": {
        "id": "5sohjKz7PsYU",
        "colab_type": "code",
        "colab": {}
      },
      "source": [
        "\n",
        "from tensorflow.keras.applications import ResNet152\n",
        "from keras.applications import VGG16"
      ],
      "execution_count": 22,
      "outputs": []
    },
    {
      "cell_type": "code",
      "metadata": {
        "id": "y6weLvHaI3x1",
        "colab_type": "code",
        "colab": {}
      },
      "source": [
        "base_model = ResNet152(\n",
        "    weights='imagenet',\n",
        "    include_top=False, \n",
        "    input_shape=(224, 224, 3), \n",
        "    pooling='avg'\n",
        ")"
      ],
      "execution_count": 25,
      "outputs": []
    },
    {
      "cell_type": "code",
      "metadata": {
        "id": "o7iXZTt_NnEt",
        "colab_type": "code",
        "colab": {}
      },
      "source": [
        "base_model.trainable = False\n",
        "\n",
        "model = Sequential([\n",
        "  base_model,\n",
        "  Dense(256, activation=\"relu\"),\n",
        "  Dropout(0.2),\n",
        "  Dense(2, activation='sigmoid')\n",
        "])\n",
        "sgd = SGD(momentum=0.01, nesterov=True)\n",
        "model.compile(loss='binary_crossentropy', optimizer=sgd, metrics=['accuracy'])\n",
        "model.summary()"
      ],
      "execution_count": 26,
      "outputs": []
    },
    {
      "cell_type": "code",
      "metadata": {
        "id": "CTeI9RTFNnCo",
        "colab_type": "code",
        "colab": {}
      },
      "source": [
        "from tensorflow.keras.callbacks import ModelCheckpoint\n",
        "checkpoint = ModelCheckpoint('/content/drive/My Drive/Online competition/Analytics vidhya/best_model152.h5',\n",
        "                             monitor='accuracy',\n",
        "                             verbose=1, save_best_only= True, \n",
        "                             mode='auto')"
      ],
      "execution_count": 27,
      "outputs": []
    },
    {
      "cell_type": "code",
      "metadata": {
        "id": "l4HHPD1dNm_l",
        "colab_type": "code",
        "colab": {}
      },
      "source": [
        "batch = 5\n",
        "epochs = 5\n",
        "datagen = ImageDataGenerator(\n",
        "        shear_range=0.2,\n",
        "        zoom_range=0.2,   \n",
        "        rotation_range=25,\n",
        "\t      width_shift_range=0.1,\n",
        "\t      height_shift_range=0.3,\n",
        "        brightness_range=[0.2,1.0],\n",
        "\t      horizontal_flip=True,\n",
        "\t      fill_mode=\"nearest\")\n",
        "\n",
        "training_generator = datagen.flow(train_img, dummy_y,\n",
        "                                  batch_size=batch)\n",
        "\n",
        "history = model.fit_generator(\n",
        "         training_generator,\n",
        "         steps_per_epoch= training_generator.n//training_generator.batch_size,\n",
        "         callbacks=[checkpoint],\n",
        "         epochs= epochs)"
      ],
      "execution_count": 28,
      "outputs": []
    },
    {
      "cell_type": "code",
      "metadata": {
        "id": "crBsmcvONm4M",
        "colab_type": "code",
        "colab": {}
      },
      "source": [
        "# Predicting target variable of test data\n",
        "from tensorflow import keras\n",
        "model = keras.models.load_model(\"/content/drive/My Drive/Colab Notebooks/analytics_vidhhya/best_model152.h5\")\n",
        "\n",
        "pred = model.predict_classes(test_img)\n",
        "pred = encoder.inverse_transform(pred)\n",
        "result = pd.DataFrame(pred, test_data[\"image_names\"], columns=[\"emergency_or_not\"])\n",
        "result.to_csv(\"sample.csv\")"
      ],
      "execution_count": 29,
      "outputs": []
    }
  ]
}